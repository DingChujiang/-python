{
 "cells": [
  {
   "cell_type": "markdown",
   "metadata": {},
   "source": [
    "# 线性表的概念和表抽象数据类型\n",
    "\n",
    "线性表(简称表)是组织数据元素的数据结构，是最基本的数据结构之一。表元素之间存在一个基本关系，称为下一个关系。对应表$ L=(e_0,e_1,...,e_{n-1}) $，其下一个关系式二元组的集合$ {<e_0,e_1>,<e_1,e_2>,...,<e_{n-2},e_{n-1}>} $。下一个关系是一种线性关系。  \n",
    "线性表的实现模型：**顺序表**、**链接表** \n",
    "## -----------------------------------------------------------------------------------------------------------------------------------\n",
    "\n",
    "# 顺序表的实现\n",
    "顺序表的实现方式：表中顺序存放在一片足够大的连续存储区，首元素存入存储区的开始位置，其余元素一次顺序存放，元素见的逻辑顺序关系通过元素在存储区里的物理位置表示。  \n",
    "线性表的布局方式如图3.1(a)所示，存储区的起始位置(内存地址)为$ l_0 $，假定表中一个元素所需的存储单元数为$ c = size $,所以元素$ e_i $的地址计算公式为：$ Loc(e_i)=l_0+c*i $。如果表元素的大小不统一，可用3.1(b)所示的布局方式，将实际元素另行存储，在顺序表中各单元位置保存相对应元素的引用信息(链接)。注意，3.1(b)中的c不是数据元素的大小，而是存储一个链接所需的存储量。3.1(b)所表示的顺序表也称为**索引**，这是最简单的索引结构。  \n",
    "<img src=\"./图/4.bmp\",width = 600, height = 600>  \n",
    "\n",
    "\n",
    "优点:按位置访问元素的复杂的为O(1)；元素在表里存储紧凑，除表元素存储区之外只需要O(1)空间存放少量辅助信息；  \n",
    "缺点：需要连续的存储区存在表中的元素，如果表很大则需要大片连续内存空间，如果较大的存储区只保留少量数据会造成存储浪费；执行加入或删除操作时，需要移动许多元素，效率低。  \n",
    "## 顺序表的结构  \n",
    "两种基本实现方式：  \n",
    "<img src=\"./图/5.bmp\",width = 500, height = 500>  \n",
    "图(a)所示一体式结构，存储表信息的单元与元素存储区以连续的方式安排在一块存储区里。下表访问元素和之前类似，只需加一个表示数据成分max和num的常量C：$ Loc(e_i)=LOC(L)+C+i*size(e) $。此存储方式的缺点是表对象大小不一，另外创建后元素存储区固定。  \n",
    "图(b)所示分离式结构，表对象只保存与整个表有关的信息(容量和元素个数)，实际元素存放在另一个独立的元素存储去对象里，通过链接与基本表对象关联。这样表对象的大小同意，但不同表对象可以关联不同大小的元素存储区。替换元素存储区更为方便。此存储方式的缺点是一个表同规格多个(两个)独立的对象实现，创建和管理更复杂。\n",
    "\n",
    "## 顺序表总结\n",
    "元素存储的集中方式和连续性。最重要的特点是O(1)时间的定位元素访问；尾端插入/删除操作也具有O(1)复杂度，但插入复杂度受元素存储区大小的限制；  \n",
    "加入/删除操作效率不高；可能需要大片存储区\n",
    "## -----------------------------------------------------------------------------------------------------------------------------------"
   ]
  },
  {
   "cell_type": "markdown",
   "metadata": {
    "collapsed": true
   },
   "source": [
    "# 链接表\n",
    "链接表用链式关系显示表示元素之间的顺序关系，基本思想是：表中的元素分别存储在一批独立的存储块(称为表的结点)里；保证从组成表结构钟的任一个节点可找到与其相关的下一个结点；在前一结点里用链接的方式显示地记录与下一结点之间的关联。  \n",
    "\n",
    "## 单链表\n",
    "单链表的结点是一个二元组，如图(a)所示，其表元素域elem保存着作为表元素的数据项(或数据表的关联信息)，链接域next里保存下一个结点的标识。在最常见形式的单链表里，与表中的n个元素对应的n个结点通过链接形成一条结点链，如图(b)所示。从引用表中的首结点的变量(图(b)中的变量p)出发，可找到表中任一结点。p称为**表头变量**或**表头指针**。为了表示链表的结束，只需给表的表尾结点的链接域设置一个不会作为结点对象标识的值(称为空链接)，python中可以用系统变量None表示，图3.7用$ \\perp $表示。\n",
    "<img src=\"./图/6.bmp\",width = 500, height = 500>"
   ]
  },
  {
   "cell_type": "code",
   "execution_count": 3,
   "metadata": {
    "collapsed": true
   },
   "outputs": [],
   "source": [
    "# 定义表结点类\n",
    "class LNode:\n",
    "    def __init__(self, elem, next_ = None):#next_是为了区别于Python中的标准函数next\n",
    "        self.elem = elem\n",
    "        self.next = next_"
   ]
  },
  {
   "cell_type": "markdown",
   "metadata": {},
   "source": [
    "### 基本链表操作\n",
    "**创建空链表**：只需把相应表头变量设置为空链接；  \n",
    "**删除链表**：Python中将表指针赋值为None即可，系统会自动回收不用的存储；  \n",
    "**判断表是否为空**：检测表头变量是否为None；  \n",
    "\n",
    "### 加入元素\n",
    "**表首端插入**：  \n",
    "(1)创建新结点并存入数据(图3.8a表示想表头变量head的联保加入新首元素13，创建新结点，变量q指向该结点)  \n",
    "<img src=\"./图/7.bmp\",width = 500, height = 500>\n",
    "(2)把原链表首结点的链接存入新结点的链接域next  \n",
    "(3)修改表头变量，使之指向新结点。  "
   ]
  },
  {
   "cell_type": "code",
   "execution_count": null,
   "metadata": {
    "collapsed": true
   },
   "outputs": [],
   "source": [
    "# 实例代码\n",
    "'''\n",
    "q = LNode(13)\n",
    "q.next = head.next\n",
    "head = q\n",
    "'''"
   ]
  },
  {
   "cell_type": "markdown",
   "metadata": {},
   "source": [
    "**一般情况的元素插入**：  \n",
    "(1) 创建新结点并存入数据；(2)把pre所指结点next域的值存入新结点的链接域next；(3)修改pre的next域，使之指向新结点。\n",
    "<img src=\"./图/8.bmp\",width = 500, height = 500>"
   ]
  },
  {
   "cell_type": "code",
   "execution_count": null,
   "metadata": {
    "collapsed": true
   },
   "outputs": [],
   "source": [
    "# 实例代码\n",
    "'''\n",
    "q = LNode(13)\n",
    "q.next = pre.next\n",
    "pre.next = q\n",
    "'''"
   ]
  },
  {
   "cell_type": "markdown",
   "metadata": {},
   "source": [
    "### 删除元素\n",
    "**删除首元素**：head = head.next  \n",
    "**一般情况的元素删除**：pre.next = pre.next.next\n",
    "<img src=\"./图/9.bmp\",width = 500, height = 500>"
   ]
  },
  {
   "cell_type": "markdown",
   "metadata": {},
   "source": [
    "### 扫描、定位和遍历\n",
    "**扫描**：从表头变量开始，沿表中链接逐步进行，对表内容进行检查。 \n",
    "  \n",
    "    p = head  \n",
    "    while p is not None and 还需继续的其他条件:  \n",
    "        对p所致结点里的数据进行所需操作  \n",
    "        p = p.next  \n",
    "\n",
    "**按下表定位**：确定第i个元素所在结点  \n",
    "  \n",
    "    p = head\n",
    "    while p is not None and i > 0:\n",
    "        i -= 1  \n",
    "        p = p.next  \n",
    "\n",
    "循环结束前可能出现两种情况：扫描完表中结点还没找到第i个结点，或p所知结点就是所需。通过检查p值是否为None可以区分这两种情况。若需要删除第k个结点，可以先将i设置为k-1，循环后监测i是0且p.next不是None即可执行删除。  \n",
    "**按元素定位**：假设需要在链表里找到满足谓词pred的元素，检索程序为：  \n",
    "  \n",
    "    p = head\n",
    "    while p is not None and not pred(p.elem):\n",
    "        p = p.next\n",
    "\n",
    "### 求表的长度  \n",
    "  \n",
    "    def length(head):\n",
    "        p, n = head, 0\n",
    "        while p is not None:\n",
    "            n += 1\n",
    "            p = p.next\n",
    "        return n\n",
    "\n",
    "### 链表操作复杂度\n",
    "创建空表：O(1)  \n",
    "删除表：python中O(1)  \n",
    "判断空表：O(1)  \n",
    "加入元素：首端加入O(1)，尾端加入O(n)，定位元素O(n)  \n",
    "删除元素；首端删除O(1)，尾端删除O(n)，定位删除或其他删除O(n)\n",
    "求表的长度：O(n)  \n",
    "\n",
    "## 单链表的实现"
   ]
  },
  {
   "cell_type": "code",
   "execution_count": 4,
   "metadata": {
    "collapsed": false
   },
   "outputs": [
    {
     "name": "stdout",
     "output_type": "stream",
     "text": [
      "1\n",
      "2\n",
      "3\n",
      "4\n",
      "5\n",
      "6\n",
      "7\n",
      "8\n",
      "9\n",
      "10\n"
     ]
    }
   ],
   "source": [
    "# 定义表结点类如上\n",
    "\n",
    "# 简单使用\n",
    "llist1 = LNode(1)\n",
    "p = llist1\n",
    "for i in range(2,11):\n",
    "    p.next = LNode(i)\n",
    "    p = p.next\n",
    "    \n",
    "p = llist1#从表头开始\n",
    "while p is not None:#简化方式:while p即可\n",
    "    print(p.elem)\n",
    "    p = p.next"
   ]
  },
  {
   "cell_type": "code",
   "execution_count": 5,
   "metadata": {
    "collapsed": false
   },
   "outputs": [],
   "source": [
    "# 自定义异常\n",
    "class LinkedListUnderflow(ValueError):\n",
    "    pass\n",
    "\n",
    "# LList类的定义，初始化函数和简单操作\n",
    "class LList:\n",
    "    def __init__(self):\n",
    "        self._head = None\n",
    "        \n",
    "    def is_empty(self):\n",
    "        return self._head is None\n",
    "    \n",
    "    def prepend(self, elem):#表头增加元素\n",
    "        self._head = LNode(elem, self._head)\n",
    "        \n",
    "    def pop(self):#删除表头结点并返回结点中的数据\n",
    "        if self._head is None:#无结点，引发异常\n",
    "            raise LinkedListUnderflow(\"in pop\")\n",
    "        e = self._head.elem\n",
    "        self._head = self._head.next\n",
    "        return e\n",
    "    \n",
    "    # 后端插入操作\n",
    "    def append(self, elem):\n",
    "        if self._head is None:\n",
    "            self._head = LNode(elem)\n",
    "            return\n",
    "        p = self._head\n",
    "        while p.next is not None:\n",
    "            p = p.next\n",
    "        p.next = LNode(elem)\n",
    "    \n",
    "    # 后端删除操作\n",
    "    def pop_last(self):\n",
    "        if self._head is None:\n",
    "            raise LinkedListUnderflow(\"in pop_last\")\n",
    "        p = self._head\n",
    "        if p.next is None:#表中只有一个元素\n",
    "            e = p.elem\n",
    "            self._head = None\n",
    "            return e\n",
    "        while p.next.next is not None:\n",
    "            p = p.next\n",
    "        e = p.next.elem\n",
    "        p.next = None\n",
    "        return e\n",
    "    \n",
    "    # 其他操作：查找、输出、遍历、迭代\n",
    "    def find(self, pred):\n",
    "        p = self._head\n",
    "        while p is not None:\n",
    "            if pred(p.elem):\n",
    "                return p.elem\n",
    "            p = p.next\n",
    "            \n",
    "    def printall(self):\n",
    "        p = self._head\n",
    "        while p is not None:\n",
    "            print(p.elem, end = '')\n",
    "            if p.next is not None:\n",
    "                print(', ', end ='')\n",
    "            p = p.next\n",
    "        print('')\n",
    "    \n",
    "    def for_each(self, proc):#proc的实参是可以作用于表元素的操作函数，如print\n",
    "        p = self._head\n",
    "        while p is not None:\n",
    "            proc(p.elem)\n",
    "            p = p.next\n",
    "            \n",
    "    def elements(self):\n",
    "        p = self._head\n",
    "        while p is not None:\n",
    "            yield p.elem\n",
    "            p = p.next\n",
    "            \n",
    "    # 筛选生成器，改进find只能取满足pred的第一个元素的限制\n",
    "    def filter(self, pred):\n",
    "        p = self._head\n",
    "        while p is not None:\n",
    "            if pred(p.elem):\n",
    "                yield p.elem\n",
    "            p = p.next"
   ]
  },
  {
   "cell_type": "code",
   "execution_count": 6,
   "metadata": {
    "collapsed": false
   },
   "outputs": [
    {
     "name": "stdout",
     "output_type": "stream",
     "text": [
      "9, 8, 7, 6, 5, 4, 3, 2, 1, 0, 11, 12, 13, 14, 15, 16, 17, 18, 19\n"
     ]
    }
   ],
   "source": [
    "# 调用输出\n",
    "mlist1 = LList()\n",
    "for i in range(10):\n",
    "    mlist1.prepend(i)\n",
    "for i in range(11,20):\n",
    "    mlist1.append(i)\n",
    "mlist1.printall()"
   ]
  },
  {
   "cell_type": "markdown",
   "metadata": {},
   "source": [
    "## -----------------------------------------------------------------------------------------------------------------------------------\n",
    "# 链表的变形与操作\n"
   ]
  },
  {
   "cell_type": "markdown",
   "metadata": {
    "collapsed": true
   },
   "source": [
    "## 单链表的简单变形\n",
    "单链表缺点：尾端操作效率低。  \n",
    "改进方式一：表对象增加一个表尾结点引用域，如下图；  \n",
    "<img src=\"./图/15.bmp\",width = 300, height = 300>\n",
    "改进方式二：通过继承和扩充定义新链表类，以LList为基类，重新定义原有变动操作，初始化时增加一个尾结点引用域，以\\_rear作为域名，初始化为None。"
   ]
  },
  {
   "cell_type": "code",
   "execution_count": 10,
   "metadata": {
    "collapsed": true
   },
   "outputs": [],
   "source": [
    "# 单链表简单变形\n",
    "class LList1(LList):\n",
    "    def __init__(self):\n",
    "        LList.__init__(self)\n",
    "        self._rear = None\n",
    "        \n",
    "    def prepend(self, elem):#前段插入\n",
    "        if self._head is None:#空表\n",
    "            self._head = LNode(elem, self._head)\n",
    "            self._rear = self._head\n",
    "        else:\n",
    "            self._head = LNode(elem, self._head)\n",
    "            \n",
    "    def append(self, elem):#后端插入\n",
    "        if self._head is None:\n",
    "            self._head = LNode(elem, self._head)\n",
    "            self._rear = self._head\n",
    "        else:\n",
    "            self._rear.next = LNode(elem)\n",
    "            self._rear = self._rear.next\n",
    "    \n",
    "    def pop_last(self):#末端弹出\n",
    "        if self._head is None:\n",
    "            raise LinkedListUnderflow(\"in pop_last\")\n",
    "        p = self._head\n",
    "        if p.next is None:#表中只有一个元素\n",
    "            e = p.elem\n",
    "            self._head = None\n",
    "            return e\n",
    "        while p.next.next is not None:#直到p.next是最后节点\n",
    "            p = p.next\n",
    "        e = p.next.elem\n",
    "        p.next = None\n",
    "        self._rear = p\n",
    "        return e"
   ]
  },
  {
   "cell_type": "code",
   "execution_count": 12,
   "metadata": {
    "collapsed": false
   },
   "outputs": [
    {
     "name": "stdout",
     "output_type": "stream",
     "text": [
      "<__main__.LList1 object at 0x000001F4BAC8CE48>\n",
      "4\n",
      "16\n",
      "12\n",
      "8\n"
     ]
    }
   ],
   "source": [
    "# 调用\n",
    "from random import randint \n",
    "mlist1 = LList1()\n",
    "mlist1.prepend(99)\n",
    "for i in range(11, 20):\n",
    "    mlist1.append(randint(1,20))\n",
    "\n",
    "for x in mlist1.filter(lambda y: y % 2 == 0):\n",
    "    print(x)"
   ]
  },
  {
   "cell_type": "markdown",
   "metadata": {},
   "source": [
    "## 循环单链表\n",
    "循环单链表(循环链表)，最后一个节点的next域不用None，而是指向表的第一个结点，如下图a。采用图b所示方式，记录表尾结点更合适，可以同时支持O(1)时间的表头/表尾插入和O(1)时间的表头删除。以下实现基于b图。  \n",
    "<img src=\"./图/16.bmp\",width = 500, height = 500>"
   ]
  },
  {
   "cell_type": "code",
   "execution_count": 4,
   "metadata": {
    "collapsed": true
   },
   "outputs": [],
   "source": [
    "# 循环单链表\n",
    "class LCList:\n",
    "    def __init__(self):\n",
    "        self._rear = None\n",
    "        \n",
    "    def is_empty(self):\n",
    "        return self._rear is None\n",
    "    \n",
    "    def prepend(self, elem):\n",
    "        p = LNode(elem)\n",
    "        if self._rear is None:\n",
    "            p.next = p#建立一个结点的环\n",
    "            self._rear = p\n",
    "        else:\n",
    "            p.next = self._rear.next\n",
    "            self._rear.next = p\n",
    "            \n",
    "    def append(self, elem):\n",
    "        self.prepend(elem)\n",
    "        self._rear = self._rear.next\n",
    "        \n",
    "    def pop(self):#前端弹出\n",
    "        if self._rear is None:\n",
    "            raise LinkedListUnderflow(\"in pop of CLList\")\n",
    "        p = self._rear.next\n",
    "        if self._rear is p:\n",
    "            self._rear = None\n",
    "        else:\n",
    "            self._rear.next = p.next\n",
    "        return p.elem\n",
    "    \n",
    "    def printall(self):#输出表元素\n",
    "        if self.is_empty():\n",
    "            return\n",
    "        p = self._rear.next\n",
    "        while True:\n",
    "            print(p.elem)\n",
    "            if p is self._rear:\n",
    "                break\n",
    "            p = p.next"
   ]
  },
  {
   "cell_type": "markdown",
   "metadata": {},
   "source": [
    "## 双链表\n",
    "双链表可支持首尾两端的搞笑操作，如下图，包含一个尾结点引用域。假定结点的下一结点引用域是next，前一结点引用域是prev。\n",
    "<img src=\"./图/17.bmp\",width = 300, height = 300>\n",
    "结点操作：  \n",
    "结点删除的示例代码：p.prev.next = p.next  p.next.prev = p.prev。结点加入也类似，需要四次赋值引用。\n",
    "\n",
    "双链表的实现采用单链表类LList1派生，空表判断和find、filter、printall都可以继承，执行中只使用next方向的引用。类中变动操作需重新定义，需要设置前一结点引用prev。\\_head和\\_rear对应，next和prev对应。"
   ]
  },
  {
   "cell_type": "code",
   "execution_count": 15,
   "metadata": {
    "collapsed": true
   },
   "outputs": [],
   "source": [
    "# 双链表实现\n",
    "class DLNode(LNode): #双链表结点类\n",
    "    def __init__(self, elem, prev = None, next_ = None):\n",
    "        LNode.__init__(self, elem, next_)\n",
    "        self.prev = prev\n",
    "\n",
    "class DLList(LList1): #双链表类\n",
    "    def __init__(self):\n",
    "        LList1.__init__(self)\n",
    "        \n",
    "    def prepend(self, elem):\n",
    "        p = DLNode(elem, None, self._head)\n",
    "        if self._head is None: #空表\n",
    "            self._rear = p\n",
    "        else: #非空表，设置prev引用\n",
    "            p.next.prev = p\n",
    "        self._head = p\n",
    "    \n",
    "    def append(self, elem):\n",
    "        p = DLNode(elem, self._rear, None)\n",
    "        if self._head is None: #空表插入\n",
    "            self._head = p\n",
    "        else:\n",
    "            p.prev.next = p\n",
    "        self._rear = p\n",
    "        \n",
    "    def pop(self):\n",
    "        if self._head is None:\n",
    "            raise LinkedListUnderflow(\"in pop of DLList\")\n",
    "        e = self._head.elem\n",
    "        self._head = self._head.next\n",
    "        if self._head is not None: \n",
    "            self._head.prev = None\n",
    "        return e\n",
    "    \n",
    "    def pop_last(self):\n",
    "        if self._head is None:\n",
    "            raise LinkedListUnderflow(\"in pop_last of DLList\")\n",
    "        e = self._rear.elem\n",
    "        self._rear = self._rear.prev\n",
    "        if self._rear is None:\n",
    "            self._head = None #设置_head保证is_empty正确工作\n",
    "        else:\n",
    "            self._rear.next = None\n",
    "        return e"
   ]
  },
  {
   "cell_type": "markdown",
   "metadata": {},
   "source": [
    "## 循环双链表\n",
    "<img src=\"./图/18.bmp\",width = 300, height = 300>\n",
    "\n",
    "## 两个链表操作：链表反转、链表排序\n",
    "### 链表反转\n",
    "链表反转有多种实现方式，下面仅写LList类的一个方法。  \n",
    "    \n",
    "    # LList链表反转\n",
    "    def rev(self):\n",
    "        p = None\n",
    "        while self._head is not None:\n",
    "            q = self._head\n",
    "            self._head = q.next # 摘下原来的首结点\n",
    "            q._next = p\n",
    "            p = q # 将刚摘下的结点加入p引用的结点序列\n",
    "        self._head = p # 反转后的结点序列，重置表头链接\n",
    "        \n",
    "### 链表排序\n",
    "Python中基本排序方法：lst.sort()或标准函数sorted(lst)。此处考虑单链表的插入排序，基本思想：初始化只包含一个元素，从尚未处理的元素中取出一个元素插入已排序的片段中，直至所以元素排序完成。"
   ]
  },
  {
   "cell_type": "code",
   "execution_count": null,
   "metadata": {
    "collapsed": true
   },
   "outputs": [],
   "source": [
    "# 顺序表的排序\n",
    "def list_sort(lst):\n",
    "    for i in range(1, len(lst)): #从第二个数开始\n",
    "        x = lst[i]\n",
    "        j = i\n",
    "        while j > 0 and lst[j-1] > x:\n",
    "            lst[j] = lst[j-1]\n",
    "            j -= 1\n",
    "        lst[j] = x"
   ]
  },
  {
   "cell_type": "markdown",
   "metadata": {},
   "source": [
    "单链表插入排序的基本状态如下图所示。其中扫描指针crt指向当前考虑的结点（表元素为x）。对一个元素的处理分两步，第一步从头开始扫过小于或等于x的表元素，直至确定了下图所示已排序段中标出的虚线位置，找到了第一个大于x的元素；第二步是将x放入正确位置，将其他表元素后移。\n",
    "<img src=\"./图/19.bmp\",width = 500, height = 500>"
   ]
  },
  {
   "cell_type": "code",
   "execution_count": null,
   "metadata": {
    "collapsed": true
   },
   "outputs": [],
   "source": [
    "# 如下排序函数定义在LList类中\n",
    "'''\n",
    "# 调整元素的方式\n",
    "def sort1(self):\n",
    "    if self._head is None:\n",
    "        return\n",
    "    crt = self._head.next # 从首结点之后开始处理\n",
    "    while crt is not Nont:\n",
    "        x = crt.elem\n",
    "        p = self._head\n",
    "        whilr p is not crt and p.elem <= x:\n",
    "            p = p.next\n",
    "        while p is not crt:\n",
    "            y = p.elem\n",
    "            p.elem = x\n",
    "            x = y\n",
    "            p = p.next\n",
    "        crt.elem = x # 回填最后一个元素\n",
    "        crt = crt.next\n",
    "\n",
    "# 调整链接的方式（以2 1 4 3为例画图即可，注意p.next在中间计算中为None，将链表断开）\n",
    "def sort(self):\n",
    "    p = self._head\n",
    "    if p is None or p.next is None:\n",
    "        return\n",
    "    \n",
    "    rem = p.next\n",
    "    p.next = None\n",
    "    while rem is not None:\n",
    "        p = self._head\n",
    "        q = None\n",
    "        while p is not None and p.elem <= rem.elem:\n",
    "            q = p\n",
    "            p = p.next\n",
    "        if q is None:\n",
    "            self._head = rem\n",
    "        else:\n",
    "            q.next = rem\n",
    "        q = rem\n",
    "        rem = rem.next\n",
    "        q.next = p\n",
    "'''"
   ]
  },
  {
   "cell_type": "markdown",
   "metadata": {},
   "source": [
    "## 链表总结\n",
    "·基本单链表：前端插入和删除为O(1)时间，定位和尾端操作为O(n)时间；  \n",
    "·增加尾结点引用域可以高效进行首端/尾端插入和首端弹出，O(1)时间复杂度，但不能高效进行尾端删除；  \n",
    "·循环单链表也能高效进行首端/尾端插入和首端弹出，担心呀注意结束判断；  \n",
    "·双链表每个结点有两个方向的链接，可高效的找到前后结点，如果有尾结点引用，两端插入和删除都是O(1)时间。循环双链表性质类似；\n",
    "·单链表变量和数据检索只能从表头开始，需要O(n)时间；双链表这些操作可以从表头或表尾开始，复杂度不变；与他们对应的两种循环链表，遍历和检索可以从任何一个地方开始，但要注意结束条件。  \n",
    "\n",
    "链表优点：表结构容易调整和修改；不需要修改或移动结点中的数据元素，只要修改结点链接，就能灵活修改表的结构和数据排序方式；表由小的存储块构成，容易安排和管理。  \n",
    "\n",
    "链表缺点：定位访问需要线性时间；简单单链表的尾端操作需要线性时间\n",
    "## -----------------------------------------------------------------------------------------------------------------------------------"
   ]
  },
  {
   "cell_type": "markdown",
   "metadata": {},
   "source": [
    "# 表的应用\n",
    "Josephus问题：假设有n个人围坐一圈，要求从第k个人开始报数，报到第m个数的人退出。然后下一个人开始继续报数并按同样规则退出，直至所有人退出。要求按顺序输出各出列人的编号。  \n",
    "\n",
    "**第一种方案：基于数组**  \n",
    "基于Python的list和固定大小的“数组”概念，即把list看着元素个数固定的对象，只修改元素的值，不改变表的结构。（相当于摆一圈n把椅子，人可以走但椅子固定）。给每个人赋予一个编号，没有人的情况用0便是，各list的元素记录这些编号。算法梗概：  \n",
    "    \n",
    "    ·初始：\n",
    "        建立一个包含n个人的编号的表\n",
    "        找到第k个人，从那里开始\n",
    "    ·循环过程：（把出列元素修改为0）\n",
    "        数m个尚在坐的人，遇到表的末端就转回下标0继续\n",
    "        把表示第m个人的表元素修改为0\n",
    "    ·n个人出列即结束"
   ]
  },
  {
   "cell_type": "code",
   "execution_count": 1,
   "metadata": {
    "collapsed": false
   },
   "outputs": [
    {
     "name": "stdout",
     "output_type": "stream",
     "text": [
      "8, 5, 3, 2, 4, 7, 1, 6, 9, 10\n"
     ]
    }
   ],
   "source": [
    "def josephua_A(n, k, m):\n",
    "    people = list(range(1, n+1))\n",
    "    \n",
    "    i = k-1 #数组下标，k-1代表第k个人\n",
    "    for num in range(n):\n",
    "        count = 0\n",
    "        while count < m:\n",
    "            if people[i] > 0:\n",
    "                count += 1\n",
    "            if count == m:\n",
    "                print(people[i], end = \"\")\n",
    "                people[i] = 0\n",
    "            i = (i+1) % n\n",
    "        if num < n-1:\n",
    "            print(\", \", end = \"\")\n",
    "        else:\n",
    "            print(\"\")\n",
    "    return\n",
    "\n",
    "# 调用\n",
    "josephua_A(10, 2, 7)"
   ]
  },
  {
   "cell_type": "markdown",
   "metadata": {},
   "source": [
    "算法复杂度：  \n",
    "当m = 1时，每次内循环值执行一次迭代，总时间开销是O(n);  \n",
    "当m = n时，先考虑计算到最后表中只剩下一个元素的情况，不难看出，内层循环需要遍历整个表n遍，每一遍只能把count的值加1，因此，删除这个元素，花费时间为$O(n^2)$。整个计算中，i加1的次数大约是：  \n",
    "$$n \\times \\left( \\frac{n}{n} + \\frac{n}{n-1} + ... + \\frac{n}{2} + \\frac{n}{1} \\right) \\approx n^2 \\times logn$$"
   ]
  },
  {
   "cell_type": "markdown",
   "metadata": {},
   "source": [
    "**第二种方案：基于顺序表**  \n",
    "将保存人员编号的list按表的方式处理，一旦确定了应该退出的人，就将其编号的表元素从表中删除。这样，随着计算的进行，所用的表将变得越来越短。用num表示表的长度，每退有人，表的长度减1，直至表长度为0时计算结束。采用此想法，表中的元素全为有效元素（不会出现表示没人的0），元素计数与下标计数得到同意，下标更新可用i = (i + m - 1) % num描述"
   ]
  },
  {
   "cell_type": "code",
   "execution_count": 2,
   "metadata": {
    "collapsed": false
   },
   "outputs": [
    {
     "name": "stdout",
     "output_type": "stream",
     "text": [
      "8, 5, 3, 2, 4, 7, 1, 6, 9, 10\n"
     ]
    }
   ],
   "source": [
    "def josephus_L(n, k, m):\n",
    "    people = list(range(1, n+1))\n",
    "    \n",
    "    num, i = n, k-1\n",
    "    for num in range(n, 0, -1):\n",
    "        i = (i + m - 1) % num\n",
    "        print(people.pop(i), end = (\", \" if num > 1 else \"\\n\"))\n",
    "    return\n",
    "\n",
    "josephus_L(10, 2, 7)"
   ]
  },
  {
   "cell_type": "markdown",
   "metadata": {},
   "source": [
    "算法复杂度：循环执行n次，但调用pop操作，需要线性时间，所以复杂度为$O(n^2)$"
   ]
  },
  {
   "cell_type": "markdown",
   "metadata": {},
   "source": [
    "**第三种方案：基于循环单链表**"
   ]
  },
  {
   "cell_type": "code",
   "execution_count": 6,
   "metadata": {
    "collapsed": false
   },
   "outputs": [
    {
     "name": "stdout",
     "output_type": "stream",
     "text": [
      "8, 5, 3, 2, 4, 7, 1, 6, 9, 10\n"
     ]
    },
    {
     "data": {
      "text/plain": [
       "<__main__.Josephus at 0x2264414a2b0>"
      ]
     },
     "execution_count": 6,
     "metadata": {},
     "output_type": "execute_result"
    }
   ],
   "source": [
    "class Josephus(LCList):\n",
    "    def turn(self, m):\n",
    "        for i in range(m):\n",
    "            self._rear = self._rear.next\n",
    "            \n",
    "    def __init__(self, n, k, m):\n",
    "        LCList.__init__(self)\n",
    "        for i in range(n):\n",
    "            self.append(i+1)\n",
    "        self.turn(k-1)\n",
    "        while not self.is_empty():\n",
    "            self.turn(m-1)\n",
    "            print(self.pop(), end = (\"\\n\" if self.is_empty() else \", \"))\n",
    "\n",
    "Josephus(10, 2, 7)"
   ]
  },
  {
   "cell_type": "markdown",
   "metadata": {},
   "source": [
    "算法复杂度：初始表的复杂度是O(n)，后面循环的复杂度是O(m\\*n)"
   ]
  },
  {
   "cell_type": "code",
   "execution_count": null,
   "metadata": {
    "collapsed": true
   },
   "outputs": [],
   "source": []
  }
 ],
 "metadata": {
  "anaconda-cloud": {},
  "kernelspec": {
   "display_name": "Python [default]",
   "language": "python",
   "name": "python3"
  },
  "language_info": {
   "codemirror_mode": {
    "name": "ipython",
    "version": 3
   },
   "file_extension": ".py",
   "mimetype": "text/x-python",
   "name": "python",
   "nbconvert_exporter": "python",
   "pygments_lexer": "ipython3",
   "version": "3.5.6"
  }
 },
 "nbformat": 4,
 "nbformat_minor": 1
}
