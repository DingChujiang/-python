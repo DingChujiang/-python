{
 "cells": [
  {
   "cell_type": "markdown",
   "metadata": {},
   "source": [
    "# 图的顶点分组和算法\n",
    "\n",
    "以非相邻为条件的最佳顶点分组问题，对应于著名的图最佳着色问题。四色问题表明，对于以任意方式分割为区域的平面图，只需要用4种不同颜色着色，就能保证相邻区域都极有不同的颜色。（需注意的是交叉路口情况构建的冲突图可能不是平面图，因此可能需要更多的颜色）最佳着色算法基本相当于枚举所有可能，算法代价高。因而可以采用贪婪算法来解决。  \n",
    "贪婪算法的基本思想是根据掌握的信息，尽可能的向得到解的方向前进，知道不能继续再换一个方向。该方法通常不能得到最优解，但能找到“可接受的”解。算法的伪代码如下：    \n",
    "$  \n",
    "\n",
    "    输入：图G              # 记录图中的顶点连接关系  \n",
    "    集合verts保存G中所有顶点    # 建立初始状态  \n",
    "    设置集合groups为空集       # 记录得到的分组，元素是集合顶点  \n",
    "    while存在未着色顶点：      # 每次迭代用贪心发找一个新分组  \n",
    "        选一种新颜色  \n",
    "        在未着色顶点中给尽可能多的无互连边的点着色（构建一个分组）  \n",
    "        记录新着色的顶点组  \n",
    "    \n",
    "    # 算法结束是集合groups里记录着一种分组方式  \n",
    "    # 算法细节还需要进一步考虑\n",
    "$  \n",
    "现在考虑用算法处理图中的冲突图，操作情况如下：  \n",
    "1. 选第1种颜色构造第1个分组：顺序选出互相不冲突的AB、AC、AD，以及与任何方向都不冲突的BA、DC和ED，做成一组；  \n",
    "2. 选出BC、BD和于他们不冲突的EA作为第二组；   \n",
    "3. 选出DA和DB作为第三组；  \n",
    "4. 剩下的EB和EC作为第四组。  \n",
    "上述算法还未开了一种新颜色的着色处理，修改后为：  \n",
    "$  \n",
    "    \n",
    "    new_group = 空集  \n",
    "    for v in verts:  \n",
    "        if v与new_group中所有顶点间都没有边：  \n",
    "            从verts中去掉v  \n",
    "            把v加入new_group  \n",
    "    # 循环结束时new_group是可以用一种新颜色着色的顶点集合  \n",
    "    # 用这段代替前面程序框架中主循环体的一部分  \n",
    "$  \n",
    "\n",
    "# 算法的精化和Python描述  \n",
    "· 判断一个集合vs是空集，对应于直接判断not vs  \n",
    "· 设置一个集合为空：vs = set()  \n",
    "· 从集合中去掉元素v: vs.remove(v)  \n",
    "· 集合中增加元素：vs.add(v)  \n",
    "并假设两个函数：  \n",
    "· 函数vertices(G)得到G中所有顶点的集合  \n",
    "· not_adjacent_with_set(v,group,G)检查顶点c与顶点集group中各顶点在图G中是否有边连接  "
   ]
  },
  {
   "cell_type": "code",
   "execution_count": null,
   "metadata": {
    "collapsed": true
   },
   "outputs": [],
   "source": [
    "# 程序\n",
    "def coloring(G):\n",
    "    color = 0\n",
    "    groups = set()\n",
    "    verts = vertices(G)\n",
    "    while verts:\n",
    "        new_group = set()\n",
    "        for v in list(verts):\n",
    "            if not_adjacent_with_set(v, newgroup, G):\n",
    "                new_group.add()\n",
    "                verts.remove(v)\n",
    "        groups.add((color, new_group))\n",
    "        color += 1\n",
    "    return groups"
   ]
  },
  {
   "cell_type": "markdown",
   "metadata": {},
   "source": [
    "# 讨论\n",
    "解是否唯一？不唯一  \n",
    "解应适当扩充，加入与已有成员不冲突的方向，得到：  \n",
    "{AB, AC, AD, BA, DC, ED}, {BC, BD, EA, BA, DC, ED}, {DA, DB, BA, DC, ED, AD}, {EB, EC, BA, BC, ED, EA}"
   ]
  },
  {
   "cell_type": "code",
   "execution_count": null,
   "metadata": {
    "collapsed": true
   },
   "outputs": [],
   "source": []
  },
  {
   "cell_type": "markdown",
   "metadata": {},
   "source": [
    "# 算法复杂度  \n",
    "常用： $ O(1), O(log n), O(n), O(n^2), O(n^3), O(2^n) $  \n",
    "空间复杂度和时间复杂度类似  \n",
    "  \n",
    "# 解决同一个问题的不同算法  \n",
    "例：求斐波那契数列的第n项。斐波那契数列定义：$ F_0 = F_1 = 1; F_n = F_{n-1} + F_{n-2}\\quad for\\; n>1 $"
   ]
  },
  {
   "cell_type": "code",
   "execution_count": 1,
   "metadata": {
    "collapsed": true
   },
   "outputs": [],
   "source": [
    "# 求解方式1：递归\n",
    "def fib(n):\n",
    "    if n < 2:\n",
    "        return 1\n",
    "    else:\n",
    "        return fib(n-1) + fib(n-2)"
   ]
  },
  {
   "cell_type": "markdown",
   "metadata": {},
   "source": [
    "方式1：计算$ F_n $的时间代价(考虑求加法操作的次数)大致等于计算$ F_{n-1} $和$ F_{n-2} $的时间代价之和，等比于斐波那契数$ F_n $的值。根据已有结论，$ \\lim_{n \\to \\infty}F_n\\, = \\, \\left(\\frac{\\sqrt{5} + 1}{2} \\right)^n \\approx 1.618^n $，计算$ F_n $的时间代价按$ n $的指数增长"
   ]
  },
  {
   "cell_type": "code",
   "execution_count": null,
   "metadata": {
    "collapsed": true
   },
   "outputs": [],
   "source": [
    "# 求解方式2： 递推\n",
    "def fib(n):\n",
    "    f1 = f2 = 1\n",
    "    for k in range(1,n):\n",
    "        f1, f2 = f2, f2 + f1\n",
    "    return f2"
   ]
  },
  {
   "cell_type": "markdown",
   "metadata": {},
   "source": [
    "方式2：循环前工作一次，循环n-1次，总工作量和n呈线性关系"
   ]
  },
  {
   "cell_type": "markdown",
   "metadata": {},
   "source": []
  }
 ],
 "metadata": {
  "anaconda-cloud": {},
  "kernelspec": {
   "display_name": "Python [conda env:Anaconda3]",
   "language": "python",
   "name": "conda-env-Anaconda3-py"
  },
  "language_info": {
   "codemirror_mode": {
    "name": "ipython",
    "version": 3
   },
   "file_extension": ".py",
   "mimetype": "text/x-python",
   "name": "python",
   "nbconvert_exporter": "python",
   "pygments_lexer": "ipython3",
   "version": "3.5.6"
  }
 },
 "nbformat": 4,
 "nbformat_minor": 1
}
