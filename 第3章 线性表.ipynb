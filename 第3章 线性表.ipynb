{
 "cells": [
  {
   "cell_type": "markdown",
   "metadata": {},
   "source": [
    "# 线性表的概念和表抽象数据类型\n",
    "\n",
    "线性表(简称表)是组织数据元素的数据结构，是最基本的数据结构之一。表元素之间存在一个基本关系，称为下一个关系。对应表$ L=(e_0,e_1,...,e_{n-1}) $，其下一个关系式二元组的集合$ {<e_0,e_1>,<e_1,e_2>,...,<e_{n-2},e_{n-1}>} $。下一个关系是一种线性关系。  \n",
    "线性表的实现模型：**顺序表**、**链接表** \n",
    "## -----------------------------------------------------------------------------------------------------------------------------------\n",
    "\n",
    "# 顺序表的实现\n",
    "顺序表的实现方式：表中顺序存放在一片足够大的连续存储区，首元素存入存储区的开始位置，其余元素一次顺序存放，元素见的逻辑顺序关系通过元素在存储区里的物理位置表示。  \n",
    "线性表的布局方式如图3.1(a)所示，存储区的起始位置(内存地址)为$ l_0 $，假定表中一个元素所需的存储单元数为$ c = size $,所以元素$ e_i $的地址计算公式为：$ Loc(e_i)=l_0+c*i $。如果表元素的大小不统一，可用3.1(b)所示的布局方式，将实际元素另行存储，在顺序表中各单元位置保存相对应元素的引用信息(链接)。注意，3.1(b)中的c不是数据元素的大小，而是存储一个链接所需的存储量。3.1(b)所表示的顺序表也称为**索引**，这是最简单的索引结构。  \n",
    "<img src=\"./图/4.bmp\",width = 600, height = 600>  \n",
    "\n",
    "\n",
    "优点:按位置访问元素的复杂的为O(1)；元素在表里存储紧凑，除表元素存储区之外只需要O(1)空间存放少量辅助信息；  \n",
    "缺点：需要连续的存储区存在表中的元素，如果表很大则需要大片连续内存空间，如果较大的存储区只保留少量数据会造成存储浪费；执行加入或删除操作是，需要移动许多元素，效率低。  \n",
    "## 顺序表的结构  \n",
    "两种基本实现方式：  \n",
    "<img src=\"./图/5.bmp\",width = 500, height = 500>  \n",
    "图(a)所示一体式结构，存储表信息的单元与元素存储区以连续的方式安排在一块存储区里。下表访问元素和之前类似，只需加一个表示数据成分max和num的常量C：$ Loc(e_i)=LOC(L)+C+i*size(e) $。此存储方式的缺点是表对象大小不一，另外创建后元素存储区固定。  \n",
    "图(b)所示分离式结构，表对象只保存与整个表有关的信息(容量和元素个数)，实际元素存放在另一个独立的元素存储去对象里，通过链接与基本表对象关联。这样表对象的大小同意，但不同表对象可以关联不同大小的元素存储区。替换元素存储区更为方便。此存储方式的缺点是一个表同规格多个(两个)独立的对象实现，创建和管理更复杂。\n",
    "\n",
    "## 顺序表总结\n",
    "元素存储的集中方式和连续行。最重要的特点是O(1)时间的定位元素访问；尾端插入/删除操作也具有O(1)复杂度，但插入复杂度受元素存储区大小的限制；  \n",
    "加入/删除操作效率不高\n",
    "## -----------------------------------------------------------------------------------------------------------------------------------"
   ]
  },
  {
   "cell_type": "markdown",
   "metadata": {
    "collapsed": true
   },
   "source": [
    "# 链接表\n",
    "链接表用链式关系显示表示元素之间的顺序关系，基本思想是：表中的元素分别存储在一批独立的存储块(称为表的结点)里；保证从组成表结构钟的任一个节点可找到与其相关的下一个结点；在前一结点里用链接的方式显示地记录与下一结点之间的关联。  \n",
    "\n",
    "## 单链表\n",
    "单链表的结点是一个二元组，如图(a)所示，其表元素域elem保存着作为表元素的数据项(或数据表的关联信息)，链接域next里保存下一个结点的标识。在最常见形式的单链表里，与表中的n个元素对应的n个结点通过链接形成一条结点链，如图(b)所示。从引用表中的首结点的变量(图(b)中的变量p)出发，可找到表中任一结点。p称为**表头变量**或**表头指针**。为了表示链表的结束，只需给表的表尾结点的链接域设置一个不会作为结点对象标识的值(称为空链接)，python中可以用系统变量None表示，图3.7用$ \\perp $表示。\n",
    "<img src=\"./图/6.bmp\",width = 500, height = 500>"
   ]
  },
  {
   "cell_type": "code",
   "execution_count": 1,
   "metadata": {
    "collapsed": true
   },
   "outputs": [],
   "source": [
    "# 定义表结点类\n",
    "class LNode:\n",
    "    def __init__(self, elem, next_ = None):#next_是为了区别于Python中的标准函数next\n",
    "        self.elem = elem\n",
    "        self.next = next_"
   ]
  },
  {
   "cell_type": "markdown",
   "metadata": {},
   "source": [
    "### 基本链表操作\n",
    "**创建空链表**：只需把相应表头变量设置为空链接；  \n",
    "**删除链表**：Python中将表指针赋值为None即可，系统会自动回收不用的存储；  \n",
    "**判断表是否为空**：监测表头变量是否为None；  \n",
    "\n",
    "### 加入元素\n",
    "**表首端插入**：  \n",
    "(1)创建新结点并存入数据(图3.8a表示想表头变量head的联保加入新首元素13，创建新结点，变量q指向该结点)  \n",
    "<img src=\"./图/7.bmp\",width = 500, height = 500>\n",
    "(2)把原链表首结点的链接存入新结点的链接域next  \n",
    "(3)修改表头变量，使之指向新结点。  "
   ]
  },
  {
   "cell_type": "code",
   "execution_count": null,
   "metadata": {
    "collapsed": true
   },
   "outputs": [],
   "source": [
    "# 实例代码\n",
    "q = LNode(13)\n",
    "q.next = head.next\n",
    "head = q"
   ]
  },
  {
   "cell_type": "markdown",
   "metadata": {},
   "source": [
    "**一般情况的元素插入**：  \n",
    "(1) 创建新结点并存入数据；(2)把pre所指结点next域的值存入新结点的链接域next；(3)修改pre的next域，使之指向新结点。\n",
    "<img src=\"./图/8.bmp\",width = 500, height = 500>"
   ]
  },
  {
   "cell_type": "code",
   "execution_count": null,
   "metadata": {
    "collapsed": true
   },
   "outputs": [],
   "source": [
    "# 实例代码\n",
    "q = LNode(13)\n",
    "q.next = pre.next\n",
    "pre.next = q"
   ]
  },
  {
   "cell_type": "markdown",
   "metadata": {},
   "source": [
    "### 删除元素\n",
    "**删除首元素**：head = head.next  \n",
    "**一般情况的元素删除**：pre.next = pre.next.next\n",
    "<img src=\"./图/9.bmp\",width = 500, height = 500>"
   ]
  },
  {
   "cell_type": "markdown",
   "metadata": {},
   "source": [
    "### 扫描、定位和遍历\n",
    "**扫描**：从表头变量开始，沿表中链接逐步进行，对表内容进行检查。 \n",
    "  \n",
    "    p = head  \n",
    "    while p is not None and 还需继续的其他条件:  \n",
    "        对p所致结点里的数据进行所需操作  \n",
    "        p = p.next  \n",
    "\n",
    "**按下表定位**：确定第i个元素所在结点  \n",
    "  \n",
    "    p = head\n",
    "    while p is not None and i > 0:\n",
    "        i -= 1  \n",
    "        p = p.next  \n",
    "\n",
    "循环结束前可能出现两种情况：扫描完表中结点还没找到第i个结点，或p所知结点就是所需。通过检查p值是否为None可以区分这两种情况。若需要删除第k个结点，可以先将i设置为k-1，循环后监测i是0且p.next不是None即可执行删除。  \n",
    "**按元素定位**：假设需要在链表里找到满足谓词pred的元素，检索程序为：  \n",
    "  \n",
    "    p = head\n",
    "    while p is not None and not pred(p.elem):\n",
    "        p = p.next\n",
    "\n",
    "### 求表的长度  \n",
    "  \n",
    "    def length(head):\n",
    "        p, n = head, 0\n",
    "        while p is not None:\n",
    "            n += 1\n",
    "            p = p.next\n",
    "        return n\n",
    "\n",
    "### 链表操作复杂度\n",
    "创建空表：O(1)  \n",
    "删除表：python中O(1)  \n",
    "判断空表：O(1)  \n",
    "加入元素：首端加入O(1)，尾端加入O(n)，定位元素O(n)  \n",
    "删除元素；首端删除O(1)，尾端删除O(n)，定位删除或其他删除O(n)\n",
    "求表的长度：O(n)  \n",
    "\n",
    "## 单链表的实现"
   ]
  },
  {
   "cell_type": "code",
   "execution_count": 3,
   "metadata": {
    "collapsed": false
   },
   "outputs": [
    {
     "name": "stdout",
     "output_type": "stream",
     "text": [
      "1\n",
      "2\n",
      "3\n",
      "4\n",
      "5\n",
      "6\n",
      "7\n",
      "8\n",
      "9\n",
      "10\n"
     ]
    }
   ],
   "source": [
    "# 定义表结点类如上\n",
    "\n",
    "# 简单使用\n",
    "llist1 = LNode(1)\n",
    "p = llist1\n",
    "for i in range(2,11):\n",
    "    p.next = LNode(i)\n",
    "    p = p.next\n",
    "    \n",
    "p = llist1#从表头开始\n",
    "while p is not None:#简化方式:while p即可\n",
    "    print(p.elem)\n",
    "    p = p.next"
   ]
  },
  {
   "cell_type": "code",
   "execution_count": 8,
   "metadata": {
    "collapsed": false
   },
   "outputs": [],
   "source": [
    "# 自定义异常\n",
    "class LinkedListUnderflow(ValueError):\n",
    "    pass\n",
    "\n",
    "# LList类的定义，初始化函数和简单操作\n",
    "class LList:\n",
    "    def __init__(self):\n",
    "        self._head = None\n",
    "        \n",
    "    def is_empty(self):\n",
    "        return self._head is None\n",
    "    \n",
    "    def prepend(self, elem):#表头增加元素\n",
    "        self._head = LNode(elem, self._head)\n",
    "        \n",
    "    def pop(self):#删除表头结点并返回结点中的数据\n",
    "        if self._head is None:#无结点，引发异常\n",
    "            raise LinkedListUnderflow(\"in pop\")\n",
    "        e = self._head.elem\n",
    "        self._head = self._head.next\n",
    "        return e\n",
    "    \n",
    "    # 后端插入操作\n",
    "    def append(self, elem):\n",
    "        if self._head is None:\n",
    "            self._head = LNode(elem)\n",
    "            return\n",
    "        p = self._head\n",
    "        while p.next is not None:\n",
    "            p = p.next\n",
    "        p.next = LNode(elem)\n",
    "    \n",
    "    # 后端删除操作\n",
    "    def pop_last(self):\n",
    "        if self._head is None:\n",
    "            raise LinkedListUnderflow(\"in pop_last\")\n",
    "        p = self._head\n",
    "        if p.next is None:#表中只有一个元素\n",
    "            e = p.elem\n",
    "            self._head = None\n",
    "            return e\n",
    "        while p.next.next is not None:\n",
    "            p = p.next\n",
    "        e = p.next.elem\n",
    "        p.next = None\n",
    "        return e\n",
    "    \n",
    "    # 其他操作：查找、输出、遍历、迭代\n",
    "    def find(self, pred):\n",
    "        p = self._head\n",
    "        while p is not None:\n",
    "            if pred(p.elem):\n",
    "                return p.elem\n",
    "            p = p.next\n",
    "            \n",
    "    def printall(self):\n",
    "        p = self._head\n",
    "        while p is not None:\n",
    "            print(p.elem, end = '')\n",
    "            if p.next is not None:\n",
    "                print(', ', end ='')\n",
    "            p = p.next\n",
    "        print('')\n",
    "    \n",
    "    def for_each(self, proc):#proc的实参是可以作用于表元素的操作函数，如print\n",
    "        p = self._head\n",
    "        while p is not None:\n",
    "            proc(p.elem)\n",
    "            p = p.next\n",
    "            \n",
    "    def elements(self):\n",
    "        p = self._head\n",
    "        while p is not None:\n",
    "            yield p.elem\n",
    "            p = p.next\n",
    "            \n",
    "    # 筛选生成器，改进find只能取满足pred的第一个元素的限制\n",
    "    def filter(self, pred):\n",
    "        p = self._head\n",
    "        while p is not None:\n",
    "            if pred(p.elem):\n",
    "                yield p.elem\n",
    "            p = p.next"
   ]
  },
  {
   "cell_type": "code",
   "execution_count": 9,
   "metadata": {
    "collapsed": false
   },
   "outputs": [
    {
     "name": "stdout",
     "output_type": "stream",
     "text": [
      "9, 8, 7, 6, 5, 4, 3, 2, 1, 0, 11, 12, 13, 14, 15, 16, 17, 18, 19\n"
     ]
    }
   ],
   "source": [
    "# 调用输出\n",
    "mlist1 = LList()\n",
    "for i in range(10):\n",
    "    mlist1.prepend(i)\n",
    "for i in range(11,20):\n",
    "    mlist1.append(i)\n",
    "mlist1.printall()"
   ]
  },
  {
   "cell_type": "markdown",
   "metadata": {},
   "source": [
    "## -----------------------------------------------------------------------------------------------------------------------------------\n",
    "# 链表的变形与操作\n"
   ]
  },
  {
   "cell_type": "code",
   "execution_count": null,
   "metadata": {
    "collapsed": true
   },
   "outputs": [],
   "source": []
  }
 ],
 "metadata": {
  "anaconda-cloud": {},
  "kernelspec": {
   "display_name": "Python [default]",
   "language": "python",
   "name": "python3"
  },
  "language_info": {
   "codemirror_mode": {
    "name": "ipython",
    "version": 3
   },
   "file_extension": ".py",
   "mimetype": "text/x-python",
   "name": "python",
   "nbconvert_exporter": "python",
   "pygments_lexer": "ipython3",
   "version": "3.5.2"
  }
 },
 "nbformat": 4,
 "nbformat_minor": 1
}
